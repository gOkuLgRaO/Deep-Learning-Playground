{
 "cells": [
  {
   "cell_type": "code",
   "id": "6a6d3d01",
   "metadata": {
    "ExecuteTime": {
     "end_time": "2025-09-03T21:17:31.110914Z",
     "start_time": "2025-09-03T21:17:27.818361Z"
    }
   },
   "source": [
    "import torch\n",
    "import torch.nn as nn\n",
    "from frameworks.lstm_sentiment import build_vocab, preprocess_data\n",
    "from torchtext.datasets import IMDB\n",
    "from torch.utils.data import DataLoader\n",
    "import matplotlib.pyplot as plt\n",
    "from utils import save_plot"
   ],
   "outputs": [],
   "execution_count": 1
  },
  {
   "metadata": {
    "ExecuteTime": {
     "end_time": "2025-09-03T21:17:34.058973Z",
     "start_time": "2025-09-03T21:17:34.053555Z"
    }
   },
   "cell_type": "code",
   "source": [
    "import torch\n",
    "import torchtext\n",
    "print(\"Torch:\", torch.__version__)\n",
    "print(\"TorchText:\", torchtext.__version__)\n"
   ],
   "id": "987942c35a0a5ef0",
   "outputs": [
    {
     "name": "stdout",
     "output_type": "stream",
     "text": [
      "Torch: 2.2.0+cpu\n",
      "TorchText: 0.17.0+cpu\n"
     ]
    }
   ],
   "execution_count": 2
  },
  {
   "metadata": {
    "ExecuteTime": {
     "end_time": "2025-09-03T21:17:36.470975Z",
     "start_time": "2025-09-03T21:17:36.467157Z"
    }
   },
   "cell_type": "code",
   "source": [
    "import torch\n",
    "print(torch.version.cuda)\n"
   ],
   "id": "ec145cc8ddaaa038",
   "outputs": [
    {
     "name": "stdout",
     "output_type": "stream",
     "text": [
      "None\n"
     ]
    }
   ],
   "execution_count": 3
  },
  {
   "metadata": {
    "ExecuteTime": {
     "end_time": "2025-09-03T21:17:38.415896Z",
     "start_time": "2025-09-03T21:17:38.411886Z"
    }
   },
   "cell_type": "code",
   "source": [
    "import torchtext\n",
    "\n",
    "print(torchtext.__version__)"
   ],
   "id": "866ea922c65103a3",
   "outputs": [
    {
     "name": "stdout",
     "output_type": "stream",
     "text": [
      "0.17.0+cpu\n"
     ]
    }
   ],
   "execution_count": 4
  },
  {
   "cell_type": "code",
   "id": "c86bb9f5",
   "metadata": {
    "ExecuteTime": {
     "end_time": "2025-09-03T21:17:40.375373Z",
     "start_time": "2025-09-03T21:17:40.369375Z"
    }
   },
   "source": [
    "# GRU Model\n",
    "class GRUClassifier(nn.Module):\n",
    "    def __init__(self, vocab_size, embed_dim=128, hidden_dim=128, num_classes=2):\n",
    "        super(GRUClassifier, self).__init__()\n",
    "        self.embedding = nn.Embedding(vocab_size, embed_dim, padding_idx=0)\n",
    "        self.gru = nn.GRU(embed_dim, hidden_dim, batch_first=True)\n",
    "        self.fc = nn.Linear(hidden_dim, num_classes)\n",
    "\n",
    "    def forward(self, x):\n",
    "        x = self.embedding(x)\n",
    "        _, h_n = self.gru(x)\n",
    "        return self.fc(h_n[-1])"
   ],
   "outputs": [],
   "execution_count": 5
  },
  {
   "cell_type": "code",
   "id": "7a85a873",
   "metadata": {
    "ExecuteTime": {
     "end_time": "2025-09-03T21:24:46.627119Z",
     "start_time": "2025-09-03T21:17:42.549550Z"
    }
   },
   "source": [
    "from frameworks.lstm_sentiment import LSTMClassifier\n",
    "# Training loop (reusing from Step 5)\n",
    "from frameworks.lstm_sentiment import train_model\n",
    "\n",
    "if __name__ == \"__main__\":\n",
    "    # --- Corrected Data Loading ---\n",
    "\n",
    "    # 1. Load the dataset iterators ONCE\n",
    "    train_iter_vocab, _ = IMDB(split=(\"train\", \"test\"))\n",
    "\n",
    "    # 2. Build the vocabulary from the training iterator\n",
    "    vocab = build_vocab(train_iter_vocab)\n",
    "\n",
    "    # 3. Re-initialize the iterators to use them for the DataLoader\n",
    "    train_iter, test_iter = IMDB(split=(\"train\", \"test\"))\n",
    "\n",
    "    # 4. Define the collate function and create DataLoaders\n",
    "    # Note: In your lstm_sentiment.py, preprocess_data takes vocab as an argument.\n",
    "    # I've corrected it here.\n",
    "    collate_fn = preprocess_data(vocab)\n",
    "    train_loader = DataLoader(list(train_iter), batch_size=32, shuffle=True, collate_fn=collate_fn)\n",
    "    test_loader = DataLoader(list(test_iter), batch_size=32, shuffle=False, collate_fn=collate_fn)\n",
    "\n",
    "    # --- Rest of your code ---\n",
    "    device = \"cuda\" if torch.cuda.is_available() else \"cpu\"\n",
    "\n",
    "    # LSTM\n",
    "    from frameworks.lstm_sentiment import train_model, LSTMClassifier\n",
    "    lstm_model = LSTMClassifier(len(vocab)).to(device)\n",
    "    lstm_losses, lstm_accs = train_model(lstm_model, train_loader, test_loader, epochs=2, device=device)\n",
    "\n",
    "    # GRU (Assuming GRUClassifier is defined elsewhere)\n",
    "    gru_model = GRUClassifier(len(vocab)).to(device)\n",
    "    gru_losses, gru_accs = train_model(gru_model, train_loader, test_loader, epochs=2, device=device)\n",
    "    \n",
    "    # Plot accuracy comparison\n",
    "    fig, ax = plt.subplots()\n",
    "    ax.plot(lstm_accs, label=\"LSTM\")\n",
    "    ax.plot(gru_accs, label=\"GRU\")\n",
    "    ax.set_title(\"GRU vs LSTM on IMDB\")\n",
    "    ax.set_xlabel(\"Epochs\")\n",
    "    ax.set_ylabel(\"Accuracy\")\n",
    "    ax.legend()\n",
    "    save_plot(fig, \"gru_vs_lstm.png\")"
   ],
   "outputs": [
    {
     "name": "stderr",
     "output_type": "stream",
     "text": [
      "C:\\Users\\gokul\\miniconda3\\envs\\dl_env\\Lib\\site-packages\\sklearn\\metrics\\_classification.py:409: UserWarning: A single label was found in 'y_true' and 'y_pred'. For the confusion matrix to have the correct shape, use the 'labels' parameter to pass all known labels.\n",
      "  warnings.warn(\n"
     ]
    },
    {
     "name": "stdout",
     "output_type": "stream",
     "text": [
      "[INFO] Saved plot to results\\lstm_confusion_matrix.png\n",
      "Epoch [1/2] Loss: 0.0125, Test Acc: 100.00\n"
     ]
    },
    {
     "name": "stderr",
     "output_type": "stream",
     "text": [
      "C:\\Users\\gokul\\miniconda3\\envs\\dl_env\\Lib\\site-packages\\sklearn\\metrics\\_classification.py:409: UserWarning: A single label was found in 'y_true' and 'y_pred'. For the confusion matrix to have the correct shape, use the 'labels' parameter to pass all known labels.\n",
      "  warnings.warn(\n"
     ]
    },
    {
     "name": "stdout",
     "output_type": "stream",
     "text": [
      "[INFO] Saved plot to results\\lstm_confusion_matrix.png\n",
      "Epoch [2/2] Loss: 0.0000, Test Acc: 100.00\n"
     ]
    },
    {
     "name": "stderr",
     "output_type": "stream",
     "text": [
      "C:\\Users\\gokul\\miniconda3\\envs\\dl_env\\Lib\\site-packages\\sklearn\\metrics\\_classification.py:409: UserWarning: A single label was found in 'y_true' and 'y_pred'. For the confusion matrix to have the correct shape, use the 'labels' parameter to pass all known labels.\n",
      "  warnings.warn(\n"
     ]
    },
    {
     "name": "stdout",
     "output_type": "stream",
     "text": [
      "[INFO] Saved plot to results\\lstm_confusion_matrix.png\n",
      "Epoch [1/2] Loss: 0.0065, Test Acc: 100.00\n",
      "[INFO] Saved plot to results\\lstm_confusion_matrix.png\n",
      "Epoch [2/2] Loss: 0.0000, Test Acc: 100.00\n",
      "[INFO] Saved plot to results\\gru_vs_lstm.png\n"
     ]
    },
    {
     "name": "stderr",
     "output_type": "stream",
     "text": [
      "C:\\Users\\gokul\\miniconda3\\envs\\dl_env\\Lib\\site-packages\\sklearn\\metrics\\_classification.py:409: UserWarning: A single label was found in 'y_true' and 'y_pred'. For the confusion matrix to have the correct shape, use the 'labels' parameter to pass all known labels.\n",
      "  warnings.warn(\n"
     ]
    }
   ],
   "execution_count": 6
  }
 ],
 "metadata": {
  "language_info": {
   "name": "python"
  },
  "kernelspec": {
   "name": "python3",
   "language": "python",
   "display_name": "Python 3 (ipykernel)"
  }
 },
 "nbformat": 4,
 "nbformat_minor": 5
}
