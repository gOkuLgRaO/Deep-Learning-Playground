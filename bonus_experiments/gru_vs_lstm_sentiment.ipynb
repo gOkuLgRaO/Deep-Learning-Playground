{
 "cells": [
  {
   "cell_type": "code",
   "execution_count": null,
   "id": "6a6d3d01",
   "metadata": {},
   "outputs": [],
   "source": [
    "import torch\n",
    "import torch.nn as nn\n",
    "from lstm_sentiment import build_vocab, preprocess_data\n",
    "from torchtext.datasets import IMDB\n",
    "from torch.utils.data import DataLoader\n",
    "import matplotlib.pyplot as plt\n",
    "from utils import save_plot"
   ]
  },
  {
   "cell_type": "code",
   "execution_count": null,
   "id": "c86bb9f5",
   "metadata": {},
   "outputs": [],
   "source": [
    "# GRU Model\n",
    "class GRUClassifier(nn.Module):\n",
    "    def __init__(self, vocab_size, embed_dim=128, hidden_dim=128, num_classes=2):\n",
    "        super(GRUClassifier, self).__init__()\n",
    "        self.embedding = nn.Embedding(vocab_size, embed_dim, padding_idx=0)\n",
    "        self.gru = nn.GRU(embed_dim, hidden_dim, batch_first=True)\n",
    "        self.fc = nn.Linear(hidden_dim, num_classes)\n",
    "\n",
    "    def forward(self, x):\n",
    "        x = self.embedding(x)\n",
    "        _, h_n = self.gru(x)\n",
    "        return self.fc(h_n[-1])"
   ]
  },
  {
   "cell_type": "code",
   "execution_count": null,
   "id": "7a85a873",
   "metadata": {},
   "outputs": [],
   "source": [
    "# Training loop (reusing from Step 5)\n",
    "from lstm_sentiment import train_model\n",
    "\n",
    "if __name__ == \"__main__\":\n",
    "    # Data\n",
    "    train_iter, test_iter = IMDB(split=(\"train\", \"test\"))\n",
    "    vocab = build_vocab(train_iter)\n",
    "    train_iter, test_iter = IMDB(split=(\"train\", \"test\"))\n",
    "    collate_fn = preprocess_data(train_iter, test_iter, vocab)\n",
    "    train_iter, test_iter = IMDB(split=(\"train\", \"test\"))\n",
    "    train_loader = DataLoader(list(train_iter), batch_size=32, shuffle=True, collate_fn=collate_fn)\n",
    "    test_loader = DataLoader(list(test_iter), batch_size=32, shuffle=False, collate_fn=collate_fn)\n",
    "\n",
    "    device = \"cuda\" if torch.cuda.is_available() else \"cpu\"\n",
    "\n",
    "    # LSTM\n",
    "    from lstm_sentiment import LSTMClassifier\n",
    "    lstm_model = LSTMClassifier(len(vocab)).to(device)\n",
    "    lstm_losses, lstm_accs = train_model(lstm_model, train_loader, test_loader, epochs=2, device=device)\n",
    "\n",
    "    # GRU\n",
    "    gru_model = GRUClassifier(len(vocab)).to(device)\n",
    "    gru_losses, gru_accs = train_model(gru_model, train_loader, test_loader, epochs=2, device=device)\n",
    "    \n",
    "    # Plot accuracy comparison\n",
    "    fig, ax = plt.subplots()\n",
    "    ax.plot(lstm_accs, label=\"LSTM\")\n",
    "    ax.plot(gru_accs, label=\"GRU\")\n",
    "    ax.set_title(\"GRU vs LSTM on IMDB\")\n",
    "    ax.set_xlabel(\"Epochs\")\n",
    "    ax.set_ylabel(\"Accuracy\")\n",
    "    ax.legend()\n",
    "    save_plot(fig, \"gru_vs_lstm.png\")"
   ]
  }
 ],
 "metadata": {
  "language_info": {
   "name": "python"
  }
 },
 "nbformat": 4,
 "nbformat_minor": 5
}
