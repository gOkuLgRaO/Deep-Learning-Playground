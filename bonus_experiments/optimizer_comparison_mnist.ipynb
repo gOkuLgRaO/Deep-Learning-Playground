{
 "cells": [
  {
   "cell_type": "code",
   "id": "921326de",
   "metadata": {
    "ExecuteTime": {
     "end_time": "2025-08-31T14:18:22.503029Z",
     "start_time": "2025-08-31T14:18:19.501507Z"
    }
   },
   "source": [
    "import torch\n",
    "import torch.nn as nn\n",
    "import torch.optim as optim\n",
    "import torchvision\n",
    "import torchvision.transforms as transforms\n",
    "import matplotlib.pyplot as plt\n",
    "from utils import save_plot"
   ],
   "outputs": [],
   "execution_count": 1
  },
  {
   "cell_type": "code",
   "id": "4f9088b5",
   "metadata": {
    "ExecuteTime": {
     "end_time": "2025-08-31T14:18:24.300694Z",
     "start_time": "2025-08-31T14:18:24.295936Z"
    }
   },
   "source": [
    "# Simple CNN (like before)\n",
    "class SimpleCNN(nn.Module):\n",
    "    def __init__(self):\n",
    "        super(SimpleCNN, self).__init__()\n",
    "        self.conv = nn.Sequential(\n",
    "            nn.Conv2d(1, 32, 3, padding=1), nn.ReLU(),\n",
    "            nn.MaxPool2d(2),\n",
    "            nn.Conv2d(32, 64, 3, padding=1), nn.ReLU(),\n",
    "            nn.MaxPool2d(2)\n",
    "        )\n",
    "        self.fc = nn.Sequential(\n",
    "            nn.Linear(64*7*7, 128), nn.ReLU(),\n",
    "            nn.Linear(128, 10)\n",
    "        )\n",
    "    def forward(self, x):\n",
    "        x = self.conv(x)\n",
    "        x = x.view(x.size(0), -1)\n",
    "        return self.fc(x)"
   ],
   "outputs": [],
   "execution_count": 2
  },
  {
   "cell_type": "code",
   "id": "d96ec758",
   "metadata": {
    "ExecuteTime": {
     "end_time": "2025-08-31T14:18:27.512296Z",
     "start_time": "2025-08-31T14:18:27.506252Z"
    }
   },
   "source": [
    "# Train loop (short training for comparison)\n",
    "def train_model(optimizer_type=\"SGD\", epochs=3, lr=0.01):\n",
    "    # Load MNIST\n",
    "    transform = transforms.Compose([transforms.ToTensor(), transforms.Normalize((0.5,), (0.5,))])\n",
    "    trainset = torchvision.datasets.MNIST(root=\"./data\", train=True, download=True, transform=transform)\n",
    "    trainloader = torch.utils.data.DataLoader(trainset, batch_size=64, shuffle=True)\n",
    "\n",
    "    device = \"cuda\" if torch.cuda.is_available() else \"cpu\"\n",
    "    model = SimpleCNN().to(device)\n",
    "    criterion = nn.CrossEntropyLoss()\n",
    "\n",
    "    if optimizer_type == \"SGD\":\n",
    "        optimizer = optim.SGD(model.parameters(), lr=lr)\n",
    "    elif optimizer_type == \"Adam\":\n",
    "        optimizer = optim.Adam(model.parameters(), lr=lr)\n",
    "    elif optimizer_type == \"RMSProp\":\n",
    "        optimizer = optim.RMSprop(model.parameters(), lr=lr)\n",
    "\n",
    "    losses = []\n",
    "    for epoch in range(epochs):\n",
    "        running_loss = 0\n",
    "        for inputs, labels in trainloader:\n",
    "            inputs, labels = inputs.to(device), labels.to(device)\n",
    "            optimizer.zero_grad()\n",
    "            outputs = model(inputs)\n",
    "            loss = criterion(outputs, labels)\n",
    "            loss.backward()\n",
    "            optimizer.step()\n",
    "            running_loss += loss.item()\n",
    "        avg_loss = running_loss / len(trainloader)\n",
    "        losses.append(avg_loss)\n",
    "        print(f\"{optimizer_type} Epoch {epoch+1}/{epochs}, Loss: {avg_loss:.4f}\")\n",
    "    return losses"
   ],
   "outputs": [],
   "execution_count": 3
  },
  {
   "cell_type": "code",
   "id": "dec1d2d5",
   "metadata": {
    "ExecuteTime": {
     "end_time": "2025-08-31T14:22:39.889364Z",
     "start_time": "2025-08-31T14:18:30.303602Z"
    }
   },
   "source": [
    "# Run comparison\n",
    "loss_sgd = train_model(\"SGD\", lr=0.01)\n",
    "loss_adam = train_model(\"Adam\", lr=0.001)\n",
    "loss_rms = train_model(\"RMSProp\", lr=0.001)"
   ],
   "outputs": [
    {
     "name": "stdout",
     "output_type": "stream",
     "text": [
      "SGD Epoch 1/3, Loss: 0.8575\n",
      "SGD Epoch 2/3, Loss: 0.1897\n",
      "SGD Epoch 3/3, Loss: 0.1289\n",
      "Adam Epoch 1/3, Loss: 0.1573\n",
      "Adam Epoch 2/3, Loss: 0.0456\n",
      "Adam Epoch 3/3, Loss: 0.0312\n",
      "RMSProp Epoch 1/3, Loss: 0.1371\n",
      "RMSProp Epoch 2/3, Loss: 0.0397\n",
      "RMSProp Epoch 3/3, Loss: 0.0266\n"
     ]
    }
   ],
   "execution_count": 4
  },
  {
   "cell_type": "code",
   "id": "c5eb4268",
   "metadata": {
    "ExecuteTime": {
     "end_time": "2025-08-31T14:23:05.579313Z",
     "start_time": "2025-08-31T14:23:05.462698Z"
    }
   },
   "source": [
    "# Plot\n",
    "fig, ax = plt.subplots()\n",
    "ax.plot(loss_sgd, label=\"SGD\")\n",
    "ax.plot(loss_adam, label=\"Adam\")\n",
    "ax.plot(loss_rms, label=\"RMSProp\")\n",
    "ax.set_title(\"Optimizer Comparison on MNIST\")\n",
    "ax.set_xlabel(\"Epochs\")\n",
    "ax.set_ylabel(\"Loss\")\n",
    "ax.legend()\n",
    "save_plot(fig, \"optimizer_comparison.png\")"
   ],
   "outputs": [
    {
     "name": "stdout",
     "output_type": "stream",
     "text": [
      "[INFO] Saved plot to results\\optimizer_comparison.png\n"
     ]
    }
   ],
   "execution_count": 5
  }
 ],
 "metadata": {
  "language_info": {
   "name": "python"
  },
  "kernelspec": {
   "name": "python3",
   "language": "python",
   "display_name": "Python 3 (ipykernel)"
  }
 },
 "nbformat": 4,
 "nbformat_minor": 5
}
