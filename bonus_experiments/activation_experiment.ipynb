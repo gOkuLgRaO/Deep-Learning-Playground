{
 "cells": [
  {
   "cell_type": "code",
   "execution_count": null,
   "id": "2fe04868",
   "metadata": {},
   "outputs": [],
   "source": [
    "import torch\n",
    "import torch.nn as nn\n",
    "import torch.optim as optim\n",
    "import torchvision\n",
    "import torchvision.transforms as transforms\n",
    "import matplotlib.pyplot as plt\n",
    "from utils import save_plot"
   ]
  },
  {
   "cell_type": "code",
   "execution_count": null,
   "id": "214f4944",
   "metadata": {},
   "outputs": [],
   "source": [
    "# Simple Feedforward Net with configurable activation\n",
    "class FFN(nn.Module):\n",
    "    def __init__(self, activation=\"relu\"):\n",
    "        super(FFN, self).__init__()\n",
    "        act = nn.ReLU() if activation == \"relu\" else nn.Sigmoid()\n",
    "        self.layers = nn.Sequential(\n",
    "            nn.Flatten(),\n",
    "            nn.Linear(28*28, 256),\n",
    "            act,\n",
    "            nn.Linear(256, 128),\n",
    "            act,\n",
    "            nn.Linear(128, 10)\n",
    "        )\n",
    "\n",
    "    def forward(self, x):\n",
    "        return self.layers(x)"
   ]
  },
  {
   "cell_type": "code",
   "execution_count": null,
   "id": "a820849b",
   "metadata": {},
   "outputs": [],
   "source": [
    "def train(activation=\"relu\", epochs=3, lr=0.01):\n",
    "    transform = transforms.Compose([transforms.ToTensor()])\n",
    "    trainset = torchvision.datasets.MNIST(root=\"./data\", train=True, download=True, transform=transform)\n",
    "    trainloader = torch.utils.data.DataLoader(trainset, batch_size=64, shuffle=True)\n",
    "\n",
    "    device = \"cuda\" if torch.cuda.is_available() else \"cpu\"\n",
    "    model = FFN(activation=activation).to(device)\n",
    "    criterion = nn.CrossEntropyLoss()\n",
    "    optimizer = optim.Adam(model.parameters(), lr=lr)\n",
    "\n",
    "    losses = []\n",
    "    for epoch in range(epochs):\n",
    "        running_loss = 0\n",
    "        for X, y in trainloader:\n",
    "            X, y = X.to(device), y.to(device)\n",
    "            optimizer.zero_grad()\n",
    "            out = model(X)\n",
    "            loss = criterion(out, y)\n",
    "            loss.backward()\n",
    "            optimizer.step()\n",
    "            running_loss += loss.item()\n",
    "        losses.append(running_loss/len(trainloader))\n",
    "        print(f\"{activation} Epoch {epoch+1}/{epochs}, Loss: {losses[-1]:.4f}\")\n",
    "    return losses"
   ]
  },
  {
   "cell_type": "code",
   "execution_count": null,
   "id": "1f301805",
   "metadata": {},
   "outputs": [],
   "source": [
    "loss_relu = train(\"relu\")\n",
    "loss_sigmoid = train(\"sigmoid\")\n",
    "\n",
    "fig, ax = plt.subplots()\n",
    "ax.plot(loss_relu, label=\"ReLU\")\n",
    "ax.plot(loss_sigmoid, label=\"Sigmoid\")\n",
    "ax.set_title(\"Activation Function Comparison (MNIST)\")\n",
    "ax.set_xlabel(\"Epochs\")\n",
    "ax.set_ylabel(\"Loss\")\n",
    "ax.legend()\n",
    "save_plot(fig, \"activation_relu_vs_sigmoid.png\")"
   ]
  }
 ],
 "metadata": {
  "language_info": {
   "name": "python"
  }
 },
 "nbformat": 4,
 "nbformat_minor": 5
}
