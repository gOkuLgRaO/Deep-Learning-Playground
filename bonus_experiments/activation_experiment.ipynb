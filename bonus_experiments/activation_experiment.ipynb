{
 "cells": [
  {
   "cell_type": "code",
   "id": "2fe04868",
   "metadata": {
    "ExecuteTime": {
     "end_time": "2025-09-03T21:26:39.001586Z",
     "start_time": "2025-09-03T21:26:35.622230Z"
    }
   },
   "source": [
    "import torch\n",
    "import torch.nn as nn\n",
    "import torch.optim as optim\n",
    "import torchvision\n",
    "import torchvision.transforms as transforms\n",
    "import matplotlib.pyplot as plt\n",
    "from utils import save_plot"
   ],
   "outputs": [],
   "execution_count": 1
  },
  {
   "cell_type": "code",
   "id": "214f4944",
   "metadata": {
    "ExecuteTime": {
     "end_time": "2025-09-03T21:26:41.340737Z",
     "start_time": "2025-09-03T21:26:41.335815Z"
    }
   },
   "source": [
    "# Simple Feedforward Net with configurable activation\n",
    "class FFN(nn.Module):\n",
    "    def __init__(self, activation=\"relu\"):\n",
    "        super(FFN, self).__init__()\n",
    "        act = nn.ReLU() if activation == \"relu\" else nn.Sigmoid()\n",
    "        self.layers = nn.Sequential(\n",
    "            nn.Flatten(),\n",
    "            nn.Linear(28*28, 256),\n",
    "            act,\n",
    "            nn.Linear(256, 128),\n",
    "            act,\n",
    "            nn.Linear(128, 10)\n",
    "        )\n",
    "\n",
    "    def forward(self, x):\n",
    "        return self.layers(x)"
   ],
   "outputs": [],
   "execution_count": 2
  },
  {
   "cell_type": "code",
   "id": "a820849b",
   "metadata": {
    "ExecuteTime": {
     "end_time": "2025-09-03T21:26:43.563427Z",
     "start_time": "2025-09-03T21:26:43.557116Z"
    }
   },
   "source": [
    "def train(activation=\"relu\", epochs=3, lr=0.01):\n",
    "    transform = transforms.Compose([transforms.ToTensor()])\n",
    "    trainset = torchvision.datasets.MNIST(root=\"./data\", train=True, download=True, transform=transform)\n",
    "    trainloader = torch.utils.data.DataLoader(trainset, batch_size=64, shuffle=True)\n",
    "\n",
    "    device = \"cuda\" if torch.cuda.is_available() else \"cpu\"\n",
    "    model = FFN(activation=activation).to(device)\n",
    "    criterion = nn.CrossEntropyLoss()\n",
    "    optimizer = optim.Adam(model.parameters(), lr=lr)\n",
    "\n",
    "    losses = []\n",
    "    for epoch in range(epochs):\n",
    "        running_loss = 0\n",
    "        for X, y in trainloader:\n",
    "            X, y = X.to(device), y.to(device)\n",
    "            optimizer.zero_grad()\n",
    "            out = model(X)\n",
    "            loss = criterion(out, y)\n",
    "            loss.backward()\n",
    "            optimizer.step()\n",
    "            running_loss += loss.item()\n",
    "        losses.append(running_loss/len(trainloader))\n",
    "        print(f\"{activation} Epoch {epoch+1}/{epochs}, Loss: {losses[-1]:.4f}\")\n",
    "    return losses"
   ],
   "outputs": [],
   "execution_count": 3
  },
  {
   "cell_type": "code",
   "id": "1f301805",
   "metadata": {
    "ExecuteTime": {
     "end_time": "2025-09-03T21:27:50.037647Z",
     "start_time": "2025-09-03T21:26:47.495924Z"
    }
   },
   "source": [
    "loss_relu = train(\"relu\")\n",
    "loss_sigmoid = train(\"sigmoid\")\n",
    "\n",
    "fig, ax = plt.subplots()\n",
    "ax.plot(loss_relu, label=\"ReLU\")\n",
    "ax.plot(loss_sigmoid, label=\"Sigmoid\")\n",
    "ax.set_title(\"Activation Function Comparison (MNIST)\")\n",
    "ax.set_xlabel(\"Epochs\")\n",
    "ax.set_ylabel(\"Loss\")\n",
    "ax.legend()\n",
    "save_plot(fig, \"activation_relu_vs_sigmoid.png\")"
   ],
   "outputs": [
    {
     "name": "stdout",
     "output_type": "stream",
     "text": [
      "relu Epoch 1/3, Loss: 0.2465\n",
      "relu Epoch 2/3, Loss: 0.1488\n",
      "relu Epoch 3/3, Loss: 0.1325\n",
      "sigmoid Epoch 1/3, Loss: 0.2514\n",
      "sigmoid Epoch 2/3, Loss: 0.1035\n",
      "sigmoid Epoch 3/3, Loss: 0.0818\n",
      "[INFO] Saved plot to results\\activation_relu_vs_sigmoid.png\n"
     ]
    }
   ],
   "execution_count": 4
  }
 ],
 "metadata": {
  "language_info": {
   "name": "python"
  },
  "kernelspec": {
   "name": "python3",
   "language": "python",
   "display_name": "Python 3 (ipykernel)"
  }
 },
 "nbformat": 4,
 "nbformat_minor": 5
}
