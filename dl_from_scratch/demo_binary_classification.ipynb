{
 "cells": [
  {
   "cell_type": "code",
   "id": "5b80ae99",
   "metadata": {
    "ExecuteTime": {
     "end_time": "2025-08-31T12:25:33.456440Z",
     "start_time": "2025-08-31T12:25:32.719042Z"
    }
   },
   "source": [
    "import numpy as np\n",
    "from neural_network_numpy import NeuralNetwork"
   ],
   "outputs": [],
   "execution_count": 1
  },
  {
   "cell_type": "code",
   "id": "e0f57419",
   "metadata": {
    "ExecuteTime": {
     "end_time": "2025-08-31T12:25:37.987788Z",
     "start_time": "2025-08-31T12:25:37.984087Z"
    }
   },
   "source": [
    "# Generate toy dataset (binary classification: OR function)\n",
    "X = np.array([[0,0,1,1],[0,1,0,1]])  # 2 features, 4 examples\n",
    "Y = np.array([[0,1,1,1]])  # OR truth table\n",
    "Y_onehot = np.eye(2)[Y.flatten()].T  # One-hot encoding"
   ],
   "outputs": [],
   "execution_count": 2
  },
  {
   "cell_type": "code",
   "id": "5d695dcd",
   "metadata": {
    "ExecuteTime": {
     "end_time": "2025-08-31T12:25:41.924277Z",
     "start_time": "2025-08-31T12:25:41.802635Z"
    }
   },
   "source": [
    "# Initialize network: 2 -> 4 -> 2\n",
    "nn = NeuralNetwork(layer_sizes=[2, 4, 2], activation=\"relu\", output_activation=\"softmax\", loss=\"cross_entropy\", lr=0.1)\n",
    "nn.fit(X, Y_onehot, epochs=1000, verbose=200)"
   ],
   "outputs": [
    {
     "name": "stdout",
     "output_type": "stream",
     "text": [
      "Epoch 200/1000, Loss: 0.0579, Acc: 1.00\n",
      "Epoch 400/1000, Loss: 0.0250, Acc: 1.00\n",
      "Epoch 600/1000, Loss: 0.0153, Acc: 1.00\n",
      "Epoch 800/1000, Loss: 0.0109, Acc: 1.00\n",
      "Epoch 1000/1000, Loss: 0.0084, Acc: 1.00\n"
     ]
    }
   ],
   "execution_count": 3
  },
  {
   "cell_type": "code",
   "id": "788c532b",
   "metadata": {
    "ExecuteTime": {
     "end_time": "2025-08-31T12:25:45.032361Z",
     "start_time": "2025-08-31T12:25:45.028780Z"
    }
   },
   "source": [
    "print(\"Predictions:\", nn.predict(X))\n",
    "print(\"Ground truth:\", Y.flatten())"
   ],
   "outputs": [
    {
     "name": "stdout",
     "output_type": "stream",
     "text": [
      "Predictions: [0 1 1 1]\n",
      "Ground truth: [0 1 1 1]\n"
     ]
    }
   ],
   "execution_count": 4
  }
 ],
 "metadata": {
  "kernelspec": {
   "display_name": "venv",
   "language": "python",
   "name": "python3"
  },
  "language_info": {
   "codemirror_mode": {
    "name": "ipython",
    "version": 3
   },
   "file_extension": ".py",
   "mimetype": "text/x-python",
   "name": "python",
   "nbconvert_exporter": "python",
   "pygments_lexer": "ipython3",
   "version": "3.13.7"
  }
 },
 "nbformat": 4,
 "nbformat_minor": 5
}
