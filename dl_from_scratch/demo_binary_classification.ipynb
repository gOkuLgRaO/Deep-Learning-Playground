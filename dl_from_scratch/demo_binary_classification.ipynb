{
 "cells": [
  {
   "cell_type": "code",
   "id": "5b80ae99",
   "metadata": {
    "ExecuteTime": {
     "end_time": "2025-09-02T05:43:03.929036Z",
     "start_time": "2025-09-02T05:43:01.856693Z"
    }
   },
   "source": [
    "import numpy as np\n",
    "from neural_network_numpy import NeuralNetwork"
   ],
   "outputs": [],
   "execution_count": 1
  },
  {
   "cell_type": "code",
   "id": "e0f57419",
   "metadata": {
    "ExecuteTime": {
     "end_time": "2025-09-02T05:43:09.204379Z",
     "start_time": "2025-09-02T05:43:09.199310Z"
    }
   },
   "source": [
    "# Generate toy dataset (binary classification: OR function)\n",
    "X = np.array([[0,0,1,1],[0,1,0,1]])  # 2 features, 4 examples\n",
    "Y = np.array([[0,1,1,1]])  # OR truth table\n",
    "Y_onehot = np.eye(2)[Y.flatten()].T  # One-hot encoding"
   ],
   "outputs": [],
   "execution_count": 2
  },
  {
   "cell_type": "code",
   "id": "5d695dcd",
   "metadata": {
    "ExecuteTime": {
     "end_time": "2025-09-02T05:43:31.693244Z",
     "start_time": "2025-09-02T05:43:31.550165Z"
    }
   },
   "source": [
    "# Initialize network: 2 -> 4 -> 2\n",
    "nn = NeuralNetwork(layer_sizes=[2, 4, 2], activation=\"relu\", output_activation=\"softmax\", loss=\"cross_entropy\", lr=0.1)\n",
    "nn.fit(X, Y_onehot, epochs=1000, verbose=200)"
   ],
   "outputs": [
    {
     "name": "stdout",
     "output_type": "stream",
     "text": [
      "Epoch 200/1000, Loss: 0.0579, Acc: 1.00\n",
      "Epoch 400/1000, Loss: 0.0250, Acc: 1.00\n",
      "Epoch 600/1000, Loss: 0.0153, Acc: 1.00\n",
      "Epoch 800/1000, Loss: 0.0109, Acc: 1.00\n",
      "Epoch 1000/1000, Loss: 0.0084, Acc: 1.00\n"
     ]
    }
   ],
   "execution_count": 3
  },
  {
   "cell_type": "code",
   "id": "788c532b",
   "metadata": {
    "ExecuteTime": {
     "end_time": "2025-09-02T05:43:34.613661Z",
     "start_time": "2025-09-02T05:43:34.609156Z"
    }
   },
   "source": [
    "print(\"Predictions:\", nn.predict(X))\n",
    "print(\"Ground truth:\", Y.flatten())"
   ],
   "outputs": [
    {
     "name": "stdout",
     "output_type": "stream",
     "text": [
      "Predictions: [0 1 1 1]\n",
      "Ground truth: [0 1 1 1]\n"
     ]
    }
   ],
   "execution_count": 4
  }
 ],
 "metadata": {
  "kernelspec": {
   "display_name": "venv",
   "language": "python",
   "name": "python3"
  },
  "language_info": {
   "codemirror_mode": {
    "name": "ipython",
    "version": 3
   },
   "file_extension": ".py",
   "mimetype": "text/x-python",
   "name": "python",
   "nbconvert_exporter": "python",
   "pygments_lexer": "ipython3",
   "version": "3.11.9"
  }
 },
 "nbformat": 4,
 "nbformat_minor": 5
}
