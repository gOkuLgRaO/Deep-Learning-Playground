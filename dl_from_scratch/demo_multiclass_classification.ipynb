{
 "cells": [
  {
   "cell_type": "code",
   "id": "6ea03e34",
   "metadata": {
    "ExecuteTime": {
     "end_time": "2025-09-02T05:43:41.993250Z",
     "start_time": "2025-09-02T05:43:41.164986Z"
    }
   },
   "source": [
    "import numpy as np\n",
    "from sklearn.datasets import make_moons\n",
    "from dl_from_scratch.neural_network_numpy import NeuralNetwork"
   ],
   "outputs": [],
   "execution_count": 1
  },
  {
   "cell_type": "code",
   "id": "090a2eda",
   "metadata": {
    "ExecuteTime": {
     "end_time": "2025-09-02T05:43:44.669302Z",
     "start_time": "2025-09-02T05:43:44.650243Z"
    }
   },
   "source": [
    "# Create toy dataset\n",
    "X, Y = make_moons(n_samples=500, noise=0.2, random_state=42)\n",
    "X = X.T\n",
    "Y = Y.reshape(1, -1)\n",
    "Y_onehot = np.eye(2)[Y.flatten()].T"
   ],
   "outputs": [],
   "execution_count": 2
  },
  {
   "cell_type": "code",
   "id": "560d9d24",
   "metadata": {
    "ExecuteTime": {
     "end_time": "2025-09-02T05:43:48.524801Z",
     "start_time": "2025-09-02T05:43:47.023161Z"
    }
   },
   "source": [
    "# Try Adam optimizer\n",
    "nn = NeuralNetwork(layer_sizes=[2, 16, 16, 2], activation=\"tanh\", output_activation=\"softmax\", \n",
    "                   loss=\"cross_entropy\", optimizer=\"adam\", lr=0.01)\n",
    "nn.fit(X, Y_onehot, epochs=500, batch_size=32, verbose=100)\n",
    "\n",
    "print(\"Final Accuracy:\", nn.accuracy(X, Y_onehot))\n",
    "print(\"Confusion Matrix:\\n\", nn.confusion(X, Y_onehot))"
   ],
   "outputs": [
    {
     "name": "stdout",
     "output_type": "stream",
     "text": [
      "Epoch 100/500, Loss: 0.0350, Acc: 0.99\n",
      "Epoch 200/500, Loss: 0.0256, Acc: 0.99\n",
      "Epoch 300/500, Loss: 0.0292, Acc: 0.98\n",
      "Epoch 400/500, Loss: 0.0781, Acc: 0.97\n",
      "Epoch 500/500, Loss: 0.0208, Acc: 0.99\n",
      "Final Accuracy: 0.988\n",
      "Confusion Matrix:\n",
      " [[248   2]\n",
      " [  4 246]]\n"
     ]
    }
   ],
   "execution_count": 3
  },
  {
   "cell_type": "code",
   "execution_count": null,
   "id": "7a4baf013255bfc2",
   "metadata": {},
   "outputs": [],
   "source": []
  }
 ],
 "metadata": {
  "kernelspec": {
   "display_name": "venv",
   "language": "python",
   "name": "python3"
  },
  "language_info": {
   "codemirror_mode": {
    "name": "ipython",
    "version": 3
   },
   "file_extension": ".py",
   "mimetype": "text/x-python",
   "name": "python",
   "nbconvert_exporter": "python",
   "pygments_lexer": "ipython3",
   "version": "3.11.9"
  }
 },
 "nbformat": 4,
 "nbformat_minor": 5
}
