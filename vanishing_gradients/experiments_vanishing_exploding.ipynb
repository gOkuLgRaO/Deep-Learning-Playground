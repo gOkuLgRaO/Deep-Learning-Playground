{
 "cells": [
  {
   "cell_type": "code",
   "id": "2b1d67f0",
   "metadata": {
    "ExecuteTime": {
     "end_time": "2025-08-31T12:30:07.081409Z",
     "start_time": "2025-08-31T12:30:06.510831Z"
    }
   },
   "source": [
    "import numpy as np\n",
    "import matplotlib.pyplot as plt\n",
    "from utils import save_plot\n",
    "from dl_from_scratch.neural_network_numpy import NeuralNetwork"
   ],
   "outputs": [],
   "execution_count": 1
  },
  {
   "cell_type": "code",
   "id": "7eae3b81",
   "metadata": {
    "ExecuteTime": {
     "end_time": "2025-08-31T12:32:41.988127Z",
     "start_time": "2025-08-31T12:32:41.982964Z"
    }
   },
   "source": [
    "# Utility: Track gradients across layers\n",
    "def track_gradients(nn, X, Y, epochs=100, activation=\"sigmoid\"):\n",
    "    grad_norms = []\n",
    "    for epoch in range(epochs):\n",
    "        cache = nn.forward(X)\n",
    "        grads = nn.backward(cache, Y)\n",
    "        layer_norms = []\n",
    "        for key in grads:\n",
    "            if \"dW\" in key:  # Only weight gradients\n",
    "                layer_norms.append(np.linalg.norm(grads[key]))\n",
    "        grad_norms.append(layer_norms)\n",
    "        nn.update(grads)\n",
    "    return np.array(grad_norms)"
   ],
   "outputs": [],
   "execution_count": 2
  },
  {
   "cell_type": "code",
   "id": "f5c14e7b",
   "metadata": {
    "ExecuteTime": {
     "end_time": "2025-08-31T12:32:44.242646Z",
     "start_time": "2025-08-31T12:32:44.222817Z"
    }
   },
   "source": [
    "# Generate dummy dataset (binary classification, easy task)\n",
    "np.random.seed(42)\n",
    "X = np.random.randn(10, 500)  # 10 features, 500 samples\n",
    "Y = (np.sum(X, axis=0) > 0).astype(int).reshape(1, -1)\n",
    "Y_onehot = np.eye(2)[Y.flatten()].T"
   ],
   "outputs": [],
   "execution_count": 3
  },
  {
   "cell_type": "code",
   "id": "294eb127",
   "metadata": {
    "ExecuteTime": {
     "end_time": "2025-08-31T12:32:46.321620Z",
     "start_time": "2025-08-31T12:32:46.318065Z"
    }
   },
   "source": [
    "# Deep network: 10 hidden layers with small size\n",
    "layer_sizes = [10] + [32]*10 + [2]"
   ],
   "outputs": [],
   "execution_count": 4
  },
  {
   "cell_type": "code",
   "id": "d93799e8",
   "metadata": {
    "ExecuteTime": {
     "end_time": "2025-08-31T12:32:47.791805Z",
     "start_time": "2025-08-31T12:32:47.683039Z"
    }
   },
   "source": [
    "# Sigmoid network\n",
    "nn_sigmoid = NeuralNetwork(layer_sizes=layer_sizes, activation=\"sigmoid\", output_activation=\"softmax\", \n",
    "                           loss=\"cross_entropy\", optimizer=\"gd\", lr=0.01)\n",
    "grad_sigmoid = track_gradients(nn_sigmoid, X, Y_onehot, epochs=50)"
   ],
   "outputs": [
    {
     "ename": "TypeError",
     "evalue": "NeuralNetwork.__init__() got an unexpected keyword argument 'optimizer'",
     "output_type": "error",
     "traceback": [
      "\u001B[31m---------------------------------------------------------------------------\u001B[39m",
      "\u001B[31mTypeError\u001B[39m                                 Traceback (most recent call last)",
      "\u001B[36mCell\u001B[39m\u001B[36m \u001B[39m\u001B[32mIn[5]\u001B[39m\u001B[32m, line 2\u001B[39m\n\u001B[32m      1\u001B[39m \u001B[38;5;66;03m# Sigmoid network\u001B[39;00m\n\u001B[32m----> \u001B[39m\u001B[32m2\u001B[39m nn_sigmoid = \u001B[43mNeuralNetwork\u001B[49m\u001B[43m(\u001B[49m\u001B[43mlayer_sizes\u001B[49m\u001B[43m=\u001B[49m\u001B[43mlayer_sizes\u001B[49m\u001B[43m,\u001B[49m\u001B[43m \u001B[49m\u001B[43mactivation\u001B[49m\u001B[43m=\u001B[49m\u001B[33;43m\"\u001B[39;49m\u001B[33;43msigmoid\u001B[39;49m\u001B[33;43m\"\u001B[39;49m\u001B[43m,\u001B[49m\u001B[43m \u001B[49m\u001B[43moutput_activation\u001B[49m\u001B[43m=\u001B[49m\u001B[33;43m\"\u001B[39;49m\u001B[33;43msoftmax\u001B[39;49m\u001B[33;43m\"\u001B[39;49m\u001B[43m,\u001B[49m\u001B[43m \u001B[49m\n\u001B[32m      3\u001B[39m \u001B[43m                           \u001B[49m\u001B[43mloss\u001B[49m\u001B[43m=\u001B[49m\u001B[33;43m\"\u001B[39;49m\u001B[33;43mcross_entropy\u001B[39;49m\u001B[33;43m\"\u001B[39;49m\u001B[43m,\u001B[49m\u001B[43m \u001B[49m\u001B[43moptimizer\u001B[49m\u001B[43m=\u001B[49m\u001B[33;43m\"\u001B[39;49m\u001B[33;43mgd\u001B[39;49m\u001B[33;43m\"\u001B[39;49m\u001B[43m,\u001B[49m\u001B[43m \u001B[49m\u001B[43mlr\u001B[49m\u001B[43m=\u001B[49m\u001B[32;43m0.01\u001B[39;49m\u001B[43m)\u001B[49m\n\u001B[32m      4\u001B[39m grad_sigmoid = track_gradients(nn_sigmoid, X, Y_onehot, epochs=\u001B[32m50\u001B[39m)\n",
      "\u001B[31mTypeError\u001B[39m: NeuralNetwork.__init__() got an unexpected keyword argument 'optimizer'"
     ]
    }
   ],
   "execution_count": 5
  },
  {
   "cell_type": "code",
   "id": "d13bc853",
   "metadata": {
    "ExecuteTime": {
     "end_time": "2025-08-31T12:33:26.655176Z",
     "start_time": "2025-08-31T12:33:26.633411Z"
    }
   },
   "source": [
    "# ReLU network\n",
    "nn_relu = NeuralNetwork(layer_sizes=layer_sizes, activation=\"relu\", output_activation=\"softmax\", \n",
    "                        loss=\"cross_entropy\", optimizer=\"gd\", lr=0.01)\n",
    "grad_relu = track_gradients(nn_relu, X, Y_onehot, epochs=50)"
   ],
   "outputs": [
    {
     "ename": "TypeError",
     "evalue": "NeuralNetwork.__init__() got an unexpected keyword argument 'optimizer'",
     "output_type": "error",
     "traceback": [
      "\u001B[31m---------------------------------------------------------------------------\u001B[39m",
      "\u001B[31mTypeError\u001B[39m                                 Traceback (most recent call last)",
      "\u001B[36mCell\u001B[39m\u001B[36m \u001B[39m\u001B[32mIn[6]\u001B[39m\u001B[32m, line 2\u001B[39m\n\u001B[32m      1\u001B[39m \u001B[38;5;66;03m# ReLU network\u001B[39;00m\n\u001B[32m----> \u001B[39m\u001B[32m2\u001B[39m nn_relu = \u001B[43mNeuralNetwork\u001B[49m\u001B[43m(\u001B[49m\u001B[43mlayer_sizes\u001B[49m\u001B[43m=\u001B[49m\u001B[43mlayer_sizes\u001B[49m\u001B[43m,\u001B[49m\u001B[43m \u001B[49m\u001B[43mactivation\u001B[49m\u001B[43m=\u001B[49m\u001B[33;43m\"\u001B[39;49m\u001B[33;43mrelu\u001B[39;49m\u001B[33;43m\"\u001B[39;49m\u001B[43m,\u001B[49m\u001B[43m \u001B[49m\u001B[43moutput_activation\u001B[49m\u001B[43m=\u001B[49m\u001B[33;43m\"\u001B[39;49m\u001B[33;43msoftmax\u001B[39;49m\u001B[33;43m\"\u001B[39;49m\u001B[43m,\u001B[49m\u001B[43m \u001B[49m\n\u001B[32m      3\u001B[39m \u001B[43m                        \u001B[49m\u001B[43mloss\u001B[49m\u001B[43m=\u001B[49m\u001B[33;43m\"\u001B[39;49m\u001B[33;43mcross_entropy\u001B[39;49m\u001B[33;43m\"\u001B[39;49m\u001B[43m,\u001B[49m\u001B[43m \u001B[49m\u001B[43moptimizer\u001B[49m\u001B[43m=\u001B[49m\u001B[33;43m\"\u001B[39;49m\u001B[33;43mgd\u001B[39;49m\u001B[33;43m\"\u001B[39;49m\u001B[43m,\u001B[49m\u001B[43m \u001B[49m\u001B[43mlr\u001B[49m\u001B[43m=\u001B[49m\u001B[32;43m0.01\u001B[39;49m\u001B[43m)\u001B[49m\n\u001B[32m      4\u001B[39m grad_relu = track_gradients(nn_relu, X, Y_onehot, epochs=\u001B[32m50\u001B[39m)\n",
      "\u001B[31mTypeError\u001B[39m: NeuralNetwork.__init__() got an unexpected keyword argument 'optimizer'"
     ]
    }
   ],
   "execution_count": 6
  },
  {
   "cell_type": "code",
   "execution_count": null,
   "id": "3cfc976c",
   "metadata": {},
   "outputs": [],
   "source": [
    "# Plot gradient norms\n",
    "fig, ax = plt.subplots(figsize=(10, 5))\n",
    "for i in range(grad_sigmoid.shape[1]):\n",
    "    ax.plot(grad_sigmoid[:, i], label=f\"Layer {i+1} (sigmoid)\", alpha=0.6)\n",
    "for i in range(grad_relu.shape[1]):\n",
    "    ax.plot(grad_relu[:, i], label=f\"Layer {i+1} (ReLU)\", linestyle=\"--\", alpha=0.6)\n",
    "ax.set_title(\"Gradient Norms per Layer (Sigmoid vs ReLU)\")\n",
    "ax.set_xlabel(\"Epochs\")\n",
    "ax.set_ylabel(\"Gradient Norm\")\n",
    "ax.legend(ncol=2, fontsize=8)\n",
    "ax.set_yscale(\"log\")\n",
    "save_plot(fig, \"vanishing_gradients.png\")"
   ]
  }
 ],
 "metadata": {
  "kernelspec": {
   "display_name": "venv",
   "language": "python",
   "name": "python3"
  },
  "language_info": {
   "codemirror_mode": {
    "name": "ipython",
    "version": 3
   },
   "file_extension": ".py",
   "mimetype": "text/x-python",
   "name": "python",
   "nbconvert_exporter": "python",
   "pygments_lexer": "ipython3",
   "version": "3.13.7"
  }
 },
 "nbformat": 4,
 "nbformat_minor": 5
}
